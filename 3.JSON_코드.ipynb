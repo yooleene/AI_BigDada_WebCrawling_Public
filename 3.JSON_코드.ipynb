{
 "cells": [
  {
   "cell_type": "markdown",
   "metadata": {},
   "source": [
    "## 실전연습) 교보문고 베스트셀러(Json데이터)"
   ]
  },
  {
   "cell_type": "markdown",
   "metadata": {},
   "source": [
    "https://www.kyobobook.co.kr/ 에서 제공하는 베스트셀러 목차 정보를 수집해 봅시다.<br>\n",
    "크롬 개발자 도구를 사용하여 데이터가 담긴 parameter를 정확히 확인한 후, <br>\n",
    "requests 모듈을 이용해 데이터를 로드해 보세요.<br>\n",
    "* 베스트셀러 검색 기준 : 베스트셀러-종합베스트-월간(1위~100위) "
   ]
  },
  {
   "cell_type": "code",
   "execution_count": null,
   "metadata": {},
   "outputs": [],
   "source": [
    "#1. 모듈 불러오기\n",
    "import requests\n",
    "import warnings\n",
    "import pandas as pd\n",
    "\n",
    "#2. SSL 경고창 없애기\n",
    "warnings.filterwarnings(action=\"ignore\")\n",
    "\n",
    "#3. 교보문고 페이지로 접속(https://www.kyobobook.co.kr/)\n",
    "#   크롬 개발자 도구를 실행하여 목표URL 탐색\n",
    "#   크롬 개발자 도구를 네트워크탭, Fetch/XHR 필터링으로 맞춰놓고 베스트-종합베스트(월간) 버튼을 클릭하면,\n",
    "#   그 순간 새로운 request가 발생하는 것을 알 수 있음 → 개발자 도구 우측의 preview를 통해 데이터를 확인하고,\n",
    "#   베스트셀러 목차로 확인된다면 이를 목표URL로 설정하면 됨\n",
    "#   목표URL을 찾았다면 문자열로 입력한 후 url 변수명으로 저장\n",
    "#   GET방식으로 전달되는 URL 파라미터는 URL에 바로 입력해도 되고,\n",
    "#   별도의 딕셔너리 변수로 만들어 'params' 파라미터로 넘겨줘도 됨\n",
    "url = 'https://product.kyobobook.co.kr/api/gw/pub/pdt/best-seller/total'\n",
    "\n",
    "#4. parameter 정보 검색조건에 맞게 설정\n",
    "p = {'page':1, 'per':20, 'period':'003', 'bsslBksClstCode':'A'}\n",
    "h = {'User-Agent':'Mozilla/5.0 (Windows NT 10.0; Win64; x64) AppleWebKit/537.36 (KHTML, like Gecko) Chrome/119.0.0.0 Safari/537.36'}\n",
    "\n",
    "#5. requests모듈의 get() 메소드를 사용하여 접속을 시도하고, 그 결과(객체)를 res변수에 저장\n",
    "res = requests.get(url, params=p, headers=h, verify=False)\n",
    "\n",
    "#6. res.json() 메소드를 사용하여 받아온 json 데이터를 파싱한 후 json_data 변수에 저장\n",
    "json_data = res.json()\n",
    "\n",
    "#7. 위의 print()문을 통해 나온 아웃풋을 분석하여 도서 목록이 들어있는 데이터를 파악\n",
    "#   도서 목록이 들어있는 리스트 데이터에 접근한 후 루프(반목문)를 돌면서 도서명/작가명/출판사 정보를 리스트에 저장\n",
    "results = []\n",
    "for data in json_data['data']['bestSeller']:\n",
    "    title=data['cmdtName']\n",
    "    publ=data['pbcmName']\n",
    "    writer=data['chrcName']\n",
    "    pb_date=data['rlseDate']\n",
    "    price=int(data['sapr'])\n",
    "    info = {'도서명':title, '출판사':publ, '작가':writer, '출판일':pb_date, '금액':f'{price:,}'}\n",
    "    results.append(info)\n",
    "\n",
    "# date = json_data[\"data\"][\"ymw\"]\n",
    "\n",
    "# 8. 엑셀로 자료 변환하기\n",
    "df = pd.DataFrame(results)\n",
    "display(df)\n",
    "# df.to_excel(\"{}_베스트셀러 1위~100위 정보.xlsx\".format(date), index=False)\n",
    "# print(\"베스트셀러 목차_엑셀 저장 완료했습니다.\")"
   ]
  },
  {
   "cell_type": "code",
   "execution_count": null,
   "metadata": {},
   "outputs": [],
   "source": []
  }
 ],
 "metadata": {
  "interpreter": {
   "hash": "e2782e0ab7cab974e8fb2dfc8cec048a29dc3b50e54743df0c4a34ac41b2be7e"
  },
  "kernelspec": {
   "display_name": "Python 3.8.10 64-bit",
   "language": "python",
   "name": "python3"
  },
  "language_info": {
   "codemirror_mode": {
    "name": "ipython",
    "version": 3
   },
   "file_extension": ".py",
   "mimetype": "text/x-python",
   "name": "python",
   "nbconvert_exporter": "python",
   "pygments_lexer": "ipython3",
   "version": "3.9.10"
  },
  "orig_nbformat": 4
 },
 "nbformat": 4,
 "nbformat_minor": 2
}
