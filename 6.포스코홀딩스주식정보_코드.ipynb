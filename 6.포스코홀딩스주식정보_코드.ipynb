{
 "cells": [
  {
   "attachments": {},
   "cell_type": "markdown",
   "metadata": {},
   "source": [
    "## 실습3) HTML TABLE데이터 가져오기"
   ]
  },
  {
   "cell_type": "markdown",
   "metadata": {},
   "source": [
    "### 포스코홀딩스 일별시세 정보"
   ]
  },
  {
   "attachments": {},
   "cell_type": "markdown",
   "metadata": {},
   "source": [
    "- 네이버 → 증권 → POSCO홀딩스(005490) 검색 → 시세 클릭 → 일별시세 → 페이지에서 새창"
   ]
  },
  {
   "attachments": {},
   "cell_type": "markdown",
   "metadata": {},
   "source": [
    "#### 1페이지 분석"
   ]
  },
  {
   "cell_type": "code",
   "execution_count": null,
   "metadata": {},
   "outputs": [],
   "source": [
    "#모듈 불러오기\n",
    "import requests\n",
    "from bs4 import BeautifulSoup\n",
    "import pandas as pd\n",
    "import warnings\n",
    "\n",
    "#SSL 경고창 없애기\n",
    "warnings.filterwarnings(action=\"ignore\")\n",
    "\n",
    "#페이지 접속\n",
    "url = \"https://finance.naver.com/item/sise_day.naver\"\n",
    "h = {\"User-Agent\" : \"Mozilla/5.0 (Windows NT 10.0; Win64; x64) AppleWebKit/537.36 (KHTML, like Gecko) Chrome/100.0.4896.75 Safari/537.36\"}\n",
    "\n",
    "#파라미터 구성하기\n",
    "p = {'code': '005490', 'page': 1}\n",
    "\n",
    "#정보가져오기\n",
    "res = requests.get(url, params=p, headers=h, verify=False)\n",
    "\n",
    "#파싱하기\n",
    "soup = BeautifulSoup(res.text, \"html.parser\")\n",
    "soup"
   ]
  },
  {
   "cell_type": "code",
   "execution_count": null,
   "metadata": {},
   "outputs": [],
   "source": [
    "#테이블 가져오기\n",
    "table_data = soup.select(\".type2\")\n",
    "table_data"
   ]
  },
  {
   "cell_type": "code",
   "execution_count": null,
   "metadata": {},
   "outputs": [],
   "source": [
    "df = pd.read_html(str(table_data))[0]\n",
    "df"
   ]
  },
  {
   "cell_type": "code",
   "execution_count": null,
   "metadata": {},
   "outputs": [],
   "source": [
    "#NaN값 있는 행 제거\n",
    "df = df.dropna(axis=0) # dropna : drop not available(누락된 값 제거)\n",
    "df"
   ]
  },
  {
   "attachments": {},
   "cell_type": "markdown",
   "metadata": {},
   "source": [
    "-----"
   ]
  },
  {
   "attachments": {},
   "cell_type": "markdown",
   "metadata": {},
   "source": [
    "#### 10페이지 분석"
   ]
  },
  {
   "cell_type": "code",
   "execution_count": null,
   "metadata": {},
   "outputs": [],
   "source": [
    "#모듈 불러오기\n",
    "import requests\n",
    "from bs4 import BeautifulSoup\n",
    "import pandas as pd\n",
    "import warnings\n",
    "\n",
    "#SSL 경고창 없애기\n",
    "warnings.filterwarnings(action=\"ignore\")\n",
    "\n",
    "#페이지 접속\n",
    "url = \"https://finance.naver.com/item/sise_day.naver\"\n",
    "h = {\"User-Agent\" : \"Mozilla/5.0 (Windows NT 10.0; Win64; x64) AppleWebKit/537.36 (KHTML, like Gecko) Chrome/100.0.4896.75 Safari/537.36\"}\n",
    "\n",
    "result = []\n",
    "for i in range(1, 11):\n",
    "    #파라미터 구성하기\n",
    "    p = {'code': '005490', 'page': i}\n",
    "    \n",
    "    #정보가져오기\n",
    "    res = requests.get(url, params=p, headers=h, verify=False)\n",
    "    \n",
    "    #파싱하기\n",
    "    soup = BeautifulSoup(res.text, \"html.parser\")\n",
    "\n",
    "    #테이블 가져오기\n",
    "    table_data = soup.select(\".type2\")\n",
    "    df = pd.read_html(str(table_data))[0]\n",
    "    result.append(df)\n",
    "\n",
    "result # 리스트 내에 여러개의 데이터 프레임이 있음"
   ]
  },
  {
   "cell_type": "code",
   "execution_count": null,
   "metadata": {},
   "outputs": [],
   "source": [
    "result[0] #확인"
   ]
  },
  {
   "cell_type": "code",
   "execution_count": null,
   "metadata": {},
   "outputs": [],
   "source": [
    "#데이터프레임 합치기\n",
    "result_df = pd.concat(result)\n",
    "result_df"
   ]
  },
  {
   "cell_type": "code",
   "execution_count": null,
   "metadata": {},
   "outputs": [],
   "source": [
    "#NaN값 있는 행 제거\n",
    "result_df = result_df.dropna(axis=0)\n",
    "result_df"
   ]
  }
 ],
 "metadata": {
  "interpreter": {
   "hash": "e2782e0ab7cab974e8fb2dfc8cec048a29dc3b50e54743df0c4a34ac41b2be7e"
  },
  "kernelspec": {
   "display_name": "Python 3.8.10 64-bit",
   "language": "python",
   "name": "python3"
  },
  "language_info": {
   "codemirror_mode": {
    "name": "ipython",
    "version": 3
   },
   "file_extension": ".py",
   "mimetype": "text/x-python",
   "name": "python",
   "nbconvert_exporter": "python",
   "pygments_lexer": "ipython3",
   "version": "3.9.10"
  },
  "orig_nbformat": 4
 },
 "nbformat": 4,
 "nbformat_minor": 2
}
