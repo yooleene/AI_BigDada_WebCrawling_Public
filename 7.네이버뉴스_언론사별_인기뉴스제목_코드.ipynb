{
 "cells": [
  {
   "attachments": {},
   "cell_type": "markdown",
   "metadata": {},
   "source": [
    "## 실습4) HTML(res.text)데이터 가져오기"
   ]
  },
  {
   "cell_type": "markdown",
   "metadata": {},
   "source": [
    "### 네이버 뉴스_언론사별 인기 뉴스 타이틀 1위~5위 가져오기"
   ]
  },
  {
   "cell_type": "markdown",
   "metadata": {},
   "source": [
    "- 네이버뉴스 → 랭킹탭 클릭 → 언론사별 랭킹뉴스 타이틀 가져오기"
   ]
  },
  {
   "cell_type": "code",
   "execution_count": null,
   "metadata": {},
   "outputs": [],
   "source": [
    "#모듈 불러오기\n",
    "import requests\n",
    "from bs4 import BeautifulSoup as bs\n",
    "import pandas as pd\n",
    "import warnings\n",
    "\n",
    "warnings.filterwarnings(action='ignore')\n",
    "\n",
    "#웹페이지 요청하기\n",
    "h = {\"User-Agent\" : \"Mozilla/5.0 (Windows NT 10.0; Win64; x64) AppleWebKit/537.36 (KHTML, like Gecko) Chrome/98.0.4758.102 Safari/537.36\"}\n",
    "url ='https://news.naver.com/main/ranking/popularDay.naver'\n",
    "res = requests.get(url, headers=h, verify=False)\n",
    "\n",
    "#웹페이지 파싱하기\n",
    "soup = bs(res.text, 'html.parser')\n",
    "\n",
    "soup"
   ]
  },
  {
   "cell_type": "markdown",
   "metadata": {},
   "source": [
    "- 언론사 데이터 추출하기 - 내용이 다른 이유는 나의 브라우저 맞춤형 추천 내용이라서"
   ]
  },
  {
   "cell_type": "code",
   "execution_count": null,
   "metadata": {},
   "outputs": [],
   "source": [
    "sel = '.rankingnews_box_wrap._popularRanking .rankingnews_box .rankingnews_name'\n",
    "# 하위 클래스 _officeCard _officeCard0 동일\n",
    "press_info = soup.select(sel)\n",
    "press_info"
   ]
  },
  {
   "cell_type": "markdown",
   "metadata": {},
   "source": [
    "- 언론사별 뉴스타이틀"
   ]
  },
  {
   "cell_type": "code",
   "execution_count": null,
   "metadata": {},
   "outputs": [],
   "source": [
    "sel = '.rankingnews_box_wrap._popularRanking .rankingnews_list .list_content'\n",
    "content_info = soup.select(sel)\n",
    "content_info"
   ]
  },
  {
   "cell_type": "markdown",
   "metadata": {},
   "source": [
    "- 데이터 추출하기"
   ]
  },
  {
   "cell_type": "code",
   "execution_count": null,
   "metadata": {},
   "outputs": [],
   "source": [
    "result = [] # 전체 내용\n",
    "for i in range(len(press_info)): # 언론사 수만큼 반복\n",
    "    press = press_info[i].text # 언론사명\n",
    "    content = [] # 언론사별 내용\n",
    "    for j in range(5): #언론사별 5개씩\n",
    "        content.append(content_info[i*5+j].text.strip())\n",
    "        # i*5+j : 언론사 순번 * 5개씩 + 언론사별 기사 순번, 양끝 \\n 삭제\n",
    "    data = {'언론사':press, '뉴스제목':content}\n",
    "    result.append(data)\n",
    "\n",
    "df = pd.DataFrame(result)\n",
    "df"
   ]
  },
  {
   "cell_type": "code",
   "execution_count": null,
   "metadata": {},
   "outputs": [],
   "source": [
    "df.to_excel('naver_news.xlsx', index=False)"
   ]
  },
  {
   "attachments": {},
   "cell_type": "markdown",
   "metadata": {},
   "source": [
    "-----"
   ]
  },
  {
   "cell_type": "markdown",
   "metadata": {},
   "source": []
  },
  {
   "cell_type": "code",
   "execution_count": null,
   "metadata": {},
   "outputs": [],
   "source": []
  },
  {
   "cell_type": "code",
   "execution_count": null,
   "metadata": {},
   "outputs": [],
   "source": []
  },
  {
   "cell_type": "code",
   "execution_count": null,
   "metadata": {},
   "outputs": [],
   "source": []
  },
  {
   "cell_type": "code",
   "execution_count": null,
   "metadata": {},
   "outputs": [],
   "source": []
  }
 ],
 "metadata": {
  "kernelspec": {
   "display_name": "Python 3.8.10 64-bit",
   "language": "python",
   "name": "python3"
  },
  "language_info": {
   "codemirror_mode": {
    "name": "ipython",
    "version": 3
   },
   "file_extension": ".py",
   "mimetype": "text/x-python",
   "name": "python",
   "nbconvert_exporter": "python",
   "pygments_lexer": "ipython3",
   "version": "3.9.10"
  },
  "orig_nbformat": 4,
  "vscode": {
   "interpreter": {
    "hash": "e2782e0ab7cab974e8fb2dfc8cec048a29dc3b50e54743df0c4a34ac41b2be7e"
   }
  }
 },
 "nbformat": 4,
 "nbformat_minor": 2
}
