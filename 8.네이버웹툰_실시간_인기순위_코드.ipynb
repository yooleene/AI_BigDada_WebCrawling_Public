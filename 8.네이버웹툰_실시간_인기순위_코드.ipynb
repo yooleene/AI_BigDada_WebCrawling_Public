{
 "cells": [
  {
   "cell_type": "markdown",
   "metadata": {},
   "source": [
    "## 실습6) JSON데이터 가져오기"
   ]
  },
  {
   "attachments": {},
   "cell_type": "markdown",
   "metadata": {},
   "source": [
    "### 네이버웹툰 실시간 인기순위 추출 : 네이버웹툰 - 우측 하단의 실시간 인기 웹툰"
   ]
  },
  {
   "cell_type": "markdown",
   "metadata": {},
   "source": [
    "### (Tip) 목표 url 탐색 필요"
   ]
  },
  {
   "cell_type": "code",
   "execution_count": null,
   "metadata": {},
   "outputs": [],
   "source": [
    "#모듈 불러오기\n",
    "import requests\n",
    "from bs4 import BeautifulSoup\n",
    "import warnings\n",
    "import pandas as pd\n",
    "\n",
    "#warning message 제거\n",
    "warnings.filterwarnings(action='ignore')\n",
    "\n",
    "#실시간 인기순위를 가져오기 위해서는, 네이버 웹툰 페이지에서 개발자 도구를 이용해서 해당 부분을 찾아야 한다.\n",
    "#Network - Fetch/XHR - Preview를 확인하며 실시간 랭킹 정보를 찾을 때까지 확인\n",
    "url = 'https://comic.naver.com/api/realtime/ranking/list?rankTabType=DEFAULT'\n",
    "res = requests.get(url, verify=False)\n",
    "\n",
    "d = res.json()\n",
    "d"
   ]
  },
  {
   "cell_type": "markdown",
   "metadata": {},
   "source": [
    "- 실시간 인기웹툰_전체"
   ]
  },
  {
   "cell_type": "code",
   "execution_count": null,
   "metadata": {},
   "outputs": [],
   "source": [
    "d['totalRankingTitleList']\n",
    "\n",
    "for i in d['totalRankingTitleList']:\n",
    "    print(i['rank'], i['titleName'], i['displayAuthor'])"
   ]
  },
  {
   "cell_type": "markdown",
   "metadata": {},
   "source": [
    "- 실시간 인기웹툰_여성"
   ]
  },
  {
   "cell_type": "code",
   "execution_count": null,
   "metadata": {},
   "outputs": [],
   "source": [
    "d['femaleRankingTitleList']\n",
    "\n",
    "for i in d['femaleRankingTitleList']:\n",
    "    print(i['rank'], i['titleName'], i['displayAuthor'])"
   ]
  },
  {
   "cell_type": "markdown",
   "metadata": {},
   "source": [
    "- 실시간 인기웹툰_남성"
   ]
  },
  {
   "cell_type": "code",
   "execution_count": null,
   "metadata": {},
   "outputs": [],
   "source": [
    "d['maleRankingTitleList']\n",
    "\n",
    "for i in d['maleRankingTitleList']:\n",
    "    print(i['rank'], i['titleName'], i['displayAuthor'])"
   ]
  }
 ],
 "metadata": {
  "kernelspec": {
   "display_name": "Python 3.8.10 64-bit",
   "language": "python",
   "name": "python3"
  },
  "language_info": {
   "codemirror_mode": {
    "name": "ipython",
    "version": 3
   },
   "file_extension": ".py",
   "mimetype": "text/x-python",
   "name": "python",
   "nbconvert_exporter": "python",
   "pygments_lexer": "ipython3",
   "version": "3.9.10"
  },
  "orig_nbformat": 4,
  "vscode": {
   "interpreter": {
    "hash": "e2782e0ab7cab974e8fb2dfc8cec048a29dc3b50e54743df0c4a34ac41b2be7e"
   }
  }
 },
 "nbformat": 4,
 "nbformat_minor": 2
}
