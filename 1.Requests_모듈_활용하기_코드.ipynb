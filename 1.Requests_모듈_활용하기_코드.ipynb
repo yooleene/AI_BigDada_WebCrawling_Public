{
 "cells": [
  {
   "attachments": {},
   "cell_type": "markdown",
   "metadata": {},
   "source": [
    "## requests 모듈 활용하기"
   ]
  },
  {
   "attachments": {},
   "cell_type": "markdown",
   "metadata": {},
   "source": [
    "### 1. get() 메소드 / text 속성"
   ]
  },
  {
   "cell_type": "code",
   "execution_count": 1,
   "metadata": {},
   "outputs": [
    {
     "name": "stdout",
     "output_type": "stream",
     "text": [
      "   <!doctype html> <html lang=\"ko\" class=\"fzoom\"> <head> <meta charset=\"utf-8\"> <meta name=\"Referrer\" content=\"origin\"> <meta http-equiv=\"X-UA-Compatible\" content=\"IE=edge\"> <meta name=\"viewport\" content=\"width=1190\"> <title>NAVER</title> <meta name=\"apple-mobile-web-app-title\" content=\"NAVER\"/> <meta name=\"robots\" content=\"index,nofollow\"/> <meta name=\"description\" content=\"네이버 메인에서 다양한 정보와 유용한 컨텐츠를 만나 보세요\"/> <meta property=\"og:title\" content=\"네이버\"> <meta property=\"og:url\" content=\"https://www.naver.com/\"> <meta property=\"og:image\" content=\"https://s.pstatic.net/static/www/mobile/edit/2016/0705/mobile_212852414260.png\"> <meta property=\"og:description\" content=\"네이버 메인에서 다양한 정보와 유용한 컨텐츠를 만나 보세요\"/> <meta name=\"twitter:card\" content=\"summary\"> <meta name=\"twitter:title\" content=\"\"> <meta name=\"twitter:url\" content=\"https://www.naver.com/\"> <meta name=\"twitter:image\" content=\"https://s.pstatic.net/static/www/mobile/edit/2016/0705/mobile_212852414260.png\"> <meta name=\"twitter:description\" content=\"네이버 메인에서 다양한 정보와 유용한 컨텐츠를 만나 보세요\"/> <meta name=\"google-site-verification\" content=\"uru5NJKa1Bfr5nv5AdQ26Qat7UrPU_02l-PIZRLzI-g\"/> <link rel=\"shortcut icon\" type=\"image/x-icon\" href=\"/favicon.ico?1\"> <link rel=\"apple-touch-icon-precomposed\" href=\"https://s.pstatic.net/static/www/nFavicon96.png\"/> <link rel=\"apple-touch-icon\" sizes=\"114x114\" href=\"https://s.pstatic.net/static/www/u/2014/0328/mma_204243574.png\"/> <link rel=\"apple-touch-icon\" href=\"https://s.pstatic.net/static/www/u/2014/0328/mma_20432863.png\"/> <link rel=\"stylesheet\" href=\"https://ssl.pstatic.net/sstatic/search/pc/css/sp_autocomplete_240801.css\"> <link rel=\"canonical\" href=\"https://www.naver.com/\"> <link rel=\"alternate\" media=\"only screen and (max-width: 767px)\" href=\"https://m.naver.com/\"> <script>window.gladsdk=window.gladsdk||{},window.gladsdk.cmd=window.gladsdk.cmd||[],window.ndpsdk=window.ndpsdk||{},window.ndpsdk.cmd=window.ndpsdk.cmd||[],window.ndpsdk.polyfill=window.ndpsdk.polyfill||{cmd:[]};var g_ssc=\"nave\n"
     ]
    }
   ],
   "source": [
    "#모듈 불러오기\n",
    "import requests\n",
    "import warnings\n",
    "\n",
    "#SSL 경고창 없애기\n",
    "warnings.filterwarnings(action='ignore')\n",
    "\n",
    "#목표url을 문자열로 입력한 후 url 변수명으로 저장\n",
    "url = \"https://www.naver.com\"\n",
    "\n",
    "#requests모듈의 get() 메소드를 사용하여 접속을 시도하고, 그 결과(객체)를 res변수에 저장\n",
    "res = requests.get(url, verify=False)\n",
    "\n",
    "print(res.text[:2000]) # 받아온 바이트 데이터를 UTF-8로 기본 디코딩하여 텍스트 문자열로 반환"
   ]
  },
  {
   "cell_type": "markdown",
   "metadata": {},
   "source": [
    "### 2. params 파라미터"
   ]
  },
  {
   "cell_type": "code",
   "execution_count": 2,
   "metadata": {},
   "outputs": [
    {
     "ename": "KeyboardInterrupt",
     "evalue": "",
     "output_type": "error",
     "traceback": [
      "\u001b[0;31m---------------------------------------------------------------------------\u001b[0m",
      "\u001b[0;31mKeyboardInterrupt\u001b[0m                         Traceback (most recent call last)",
      "Cell \u001b[0;32mIn[2], line 11\u001b[0m\n\u001b[1;32m      9\u001b[0m p \u001b[38;5;241m=\u001b[39m {\u001b[38;5;124m\"\u001b[39m\u001b[38;5;124mquery\u001b[39m\u001b[38;5;124m\"\u001b[39m : kw} \u001b[38;5;66;03m# request 시 전달하고자 파라미터 정보를 딕셔너리 자료형으로 작성해 전달 가능\u001b[39;00m\n\u001b[1;32m     10\u001b[0m url \u001b[38;5;241m=\u001b[39m \u001b[38;5;124m\"\u001b[39m\u001b[38;5;124mhttps://search.naver.com/search.naver\u001b[39m\u001b[38;5;124m\"\u001b[39m\n\u001b[0;32m---> 11\u001b[0m res \u001b[38;5;241m=\u001b[39m \u001b[43mrequests\u001b[49m\u001b[38;5;241;43m.\u001b[39;49m\u001b[43mget\u001b[49m\u001b[43m(\u001b[49m\u001b[43murl\u001b[49m\u001b[43m,\u001b[49m\u001b[43m \u001b[49m\u001b[43mparams\u001b[49m\u001b[43m \u001b[49m\u001b[38;5;241;43m=\u001b[39;49m\u001b[43m \u001b[49m\u001b[43mp\u001b[49m\u001b[43m,\u001b[49m\u001b[43m \u001b[49m\u001b[43mverify\u001b[49m\u001b[38;5;241;43m=\u001b[39;49m\u001b[38;5;28;43;01mFalse\u001b[39;49;00m\u001b[43m)\u001b[49m \u001b[38;5;66;03m# .post() 메소드에서도 동일하게 사용 가능. 단, post에서는 param 대신 data 사용\u001b[39;00m\n\u001b[1;32m     13\u001b[0m \u001b[38;5;66;03m#실제 request된 url의 내용을 보려면 res.request.url로 확인 가능\u001b[39;00m\n\u001b[1;32m     14\u001b[0m \u001b[38;5;28mprint\u001b[39m(\u001b[38;5;124m\"\u001b[39m\u001b[38;5;124murl 주소: \u001b[39m\u001b[38;5;124m\"\u001b[39m, res\u001b[38;5;241m.\u001b[39mrequest\u001b[38;5;241m.\u001b[39murl)\n",
      "File \u001b[0;32m/Library/Frameworks/Python.framework/Versions/3.9/lib/python3.9/site-packages/requests/api.py:73\u001b[0m, in \u001b[0;36mget\u001b[0;34m(url, params, **kwargs)\u001b[0m\n\u001b[1;32m     62\u001b[0m \u001b[38;5;28;01mdef\u001b[39;00m \u001b[38;5;21mget\u001b[39m(url, params\u001b[38;5;241m=\u001b[39m\u001b[38;5;28;01mNone\u001b[39;00m, \u001b[38;5;241m*\u001b[39m\u001b[38;5;241m*\u001b[39mkwargs):\n\u001b[1;32m     63\u001b[0m \u001b[38;5;250m    \u001b[39m\u001b[38;5;124mr\u001b[39m\u001b[38;5;124;03m\"\"\"Sends a GET request.\u001b[39;00m\n\u001b[1;32m     64\u001b[0m \n\u001b[1;32m     65\u001b[0m \u001b[38;5;124;03m    :param url: URL for the new :class:`Request` object.\u001b[39;00m\n\u001b[0;32m   (...)\u001b[0m\n\u001b[1;32m     70\u001b[0m \u001b[38;5;124;03m    :rtype: requests.Response\u001b[39;00m\n\u001b[1;32m     71\u001b[0m \u001b[38;5;124;03m    \"\"\"\u001b[39;00m\n\u001b[0;32m---> 73\u001b[0m     \u001b[38;5;28;01mreturn\u001b[39;00m \u001b[43mrequest\u001b[49m\u001b[43m(\u001b[49m\u001b[38;5;124;43m\"\u001b[39;49m\u001b[38;5;124;43mget\u001b[39;49m\u001b[38;5;124;43m\"\u001b[39;49m\u001b[43m,\u001b[49m\u001b[43m \u001b[49m\u001b[43murl\u001b[49m\u001b[43m,\u001b[49m\u001b[43m \u001b[49m\u001b[43mparams\u001b[49m\u001b[38;5;241;43m=\u001b[39;49m\u001b[43mparams\u001b[49m\u001b[43m,\u001b[49m\u001b[43m \u001b[49m\u001b[38;5;241;43m*\u001b[39;49m\u001b[38;5;241;43m*\u001b[39;49m\u001b[43mkwargs\u001b[49m\u001b[43m)\u001b[49m\n",
      "File \u001b[0;32m/Library/Frameworks/Python.framework/Versions/3.9/lib/python3.9/site-packages/requests/api.py:59\u001b[0m, in \u001b[0;36mrequest\u001b[0;34m(method, url, **kwargs)\u001b[0m\n\u001b[1;32m     55\u001b[0m \u001b[38;5;66;03m# By using the 'with' statement we are sure the session is closed, thus we\u001b[39;00m\n\u001b[1;32m     56\u001b[0m \u001b[38;5;66;03m# avoid leaving sockets open which can trigger a ResourceWarning in some\u001b[39;00m\n\u001b[1;32m     57\u001b[0m \u001b[38;5;66;03m# cases, and look like a memory leak in others.\u001b[39;00m\n\u001b[1;32m     58\u001b[0m \u001b[38;5;28;01mwith\u001b[39;00m sessions\u001b[38;5;241m.\u001b[39mSession() \u001b[38;5;28;01mas\u001b[39;00m session:\n\u001b[0;32m---> 59\u001b[0m     \u001b[38;5;28;01mreturn\u001b[39;00m \u001b[43msession\u001b[49m\u001b[38;5;241;43m.\u001b[39;49m\u001b[43mrequest\u001b[49m\u001b[43m(\u001b[49m\u001b[43mmethod\u001b[49m\u001b[38;5;241;43m=\u001b[39;49m\u001b[43mmethod\u001b[49m\u001b[43m,\u001b[49m\u001b[43m \u001b[49m\u001b[43murl\u001b[49m\u001b[38;5;241;43m=\u001b[39;49m\u001b[43murl\u001b[49m\u001b[43m,\u001b[49m\u001b[43m \u001b[49m\u001b[38;5;241;43m*\u001b[39;49m\u001b[38;5;241;43m*\u001b[39;49m\u001b[43mkwargs\u001b[49m\u001b[43m)\u001b[49m\n",
      "File \u001b[0;32m/Library/Frameworks/Python.framework/Versions/3.9/lib/python3.9/site-packages/requests/sessions.py:579\u001b[0m, in \u001b[0;36mSession.request\u001b[0;34m(self, method, url, params, data, headers, cookies, files, auth, timeout, allow_redirects, proxies, hooks, stream, verify, cert, json)\u001b[0m\n\u001b[1;32m    575\u001b[0m prep \u001b[38;5;241m=\u001b[39m \u001b[38;5;28mself\u001b[39m\u001b[38;5;241m.\u001b[39mprepare_request(req)\n\u001b[1;32m    577\u001b[0m proxies \u001b[38;5;241m=\u001b[39m proxies \u001b[38;5;129;01mor\u001b[39;00m {}\n\u001b[0;32m--> 579\u001b[0m settings \u001b[38;5;241m=\u001b[39m \u001b[38;5;28;43mself\u001b[39;49m\u001b[38;5;241;43m.\u001b[39;49m\u001b[43mmerge_environment_settings\u001b[49m\u001b[43m(\u001b[49m\n\u001b[1;32m    580\u001b[0m \u001b[43m    \u001b[49m\u001b[43mprep\u001b[49m\u001b[38;5;241;43m.\u001b[39;49m\u001b[43murl\u001b[49m\u001b[43m,\u001b[49m\u001b[43m \u001b[49m\u001b[43mproxies\u001b[49m\u001b[43m,\u001b[49m\u001b[43m \u001b[49m\u001b[43mstream\u001b[49m\u001b[43m,\u001b[49m\u001b[43m \u001b[49m\u001b[43mverify\u001b[49m\u001b[43m,\u001b[49m\u001b[43m \u001b[49m\u001b[43mcert\u001b[49m\n\u001b[1;32m    581\u001b[0m \u001b[43m\u001b[49m\u001b[43m)\u001b[49m\n\u001b[1;32m    583\u001b[0m \u001b[38;5;66;03m# Send the request.\u001b[39;00m\n\u001b[1;32m    584\u001b[0m send_kwargs \u001b[38;5;241m=\u001b[39m {\n\u001b[1;32m    585\u001b[0m     \u001b[38;5;124m\"\u001b[39m\u001b[38;5;124mtimeout\u001b[39m\u001b[38;5;124m\"\u001b[39m: timeout,\n\u001b[1;32m    586\u001b[0m     \u001b[38;5;124m\"\u001b[39m\u001b[38;5;124mallow_redirects\u001b[39m\u001b[38;5;124m\"\u001b[39m: allow_redirects,\n\u001b[1;32m    587\u001b[0m }\n",
      "File \u001b[0;32m/Library/Frameworks/Python.framework/Versions/3.9/lib/python3.9/site-packages/requests/sessions.py:761\u001b[0m, in \u001b[0;36mSession.merge_environment_settings\u001b[0;34m(self, url, proxies, stream, verify, cert)\u001b[0m\n\u001b[1;32m    758\u001b[0m \u001b[38;5;28;01mif\u001b[39;00m \u001b[38;5;28mself\u001b[39m\u001b[38;5;241m.\u001b[39mtrust_env:\n\u001b[1;32m    759\u001b[0m     \u001b[38;5;66;03m# Set environment's proxies.\u001b[39;00m\n\u001b[1;32m    760\u001b[0m     no_proxy \u001b[38;5;241m=\u001b[39m proxies\u001b[38;5;241m.\u001b[39mget(\u001b[38;5;124m\"\u001b[39m\u001b[38;5;124mno_proxy\u001b[39m\u001b[38;5;124m\"\u001b[39m) \u001b[38;5;28;01mif\u001b[39;00m proxies \u001b[38;5;129;01mis\u001b[39;00m \u001b[38;5;129;01mnot\u001b[39;00m \u001b[38;5;28;01mNone\u001b[39;00m \u001b[38;5;28;01melse\u001b[39;00m \u001b[38;5;28;01mNone\u001b[39;00m\n\u001b[0;32m--> 761\u001b[0m     env_proxies \u001b[38;5;241m=\u001b[39m \u001b[43mget_environ_proxies\u001b[49m\u001b[43m(\u001b[49m\u001b[43murl\u001b[49m\u001b[43m,\u001b[49m\u001b[43m \u001b[49m\u001b[43mno_proxy\u001b[49m\u001b[38;5;241;43m=\u001b[39;49m\u001b[43mno_proxy\u001b[49m\u001b[43m)\u001b[49m\n\u001b[1;32m    762\u001b[0m     \u001b[38;5;28;01mfor\u001b[39;00m (k, v) \u001b[38;5;129;01min\u001b[39;00m env_proxies\u001b[38;5;241m.\u001b[39mitems():\n\u001b[1;32m    763\u001b[0m         proxies\u001b[38;5;241m.\u001b[39msetdefault(k, v)\n",
      "File \u001b[0;32m/Library/Frameworks/Python.framework/Versions/3.9/lib/python3.9/site-packages/requests/utils.py:830\u001b[0m, in \u001b[0;36mget_environ_proxies\u001b[0;34m(url, no_proxy)\u001b[0m\n\u001b[1;32m    824\u001b[0m \u001b[38;5;28;01mdef\u001b[39;00m \u001b[38;5;21mget_environ_proxies\u001b[39m(url, no_proxy\u001b[38;5;241m=\u001b[39m\u001b[38;5;28;01mNone\u001b[39;00m):\n\u001b[1;32m    825\u001b[0m \u001b[38;5;250m    \u001b[39m\u001b[38;5;124;03m\"\"\"\u001b[39;00m\n\u001b[1;32m    826\u001b[0m \u001b[38;5;124;03m    Return a dict of environment proxies.\u001b[39;00m\n\u001b[1;32m    827\u001b[0m \n\u001b[1;32m    828\u001b[0m \u001b[38;5;124;03m    :rtype: dict\u001b[39;00m\n\u001b[1;32m    829\u001b[0m \u001b[38;5;124;03m    \"\"\"\u001b[39;00m\n\u001b[0;32m--> 830\u001b[0m     \u001b[38;5;28;01mif\u001b[39;00m \u001b[43mshould_bypass_proxies\u001b[49m\u001b[43m(\u001b[49m\u001b[43murl\u001b[49m\u001b[43m,\u001b[49m\u001b[43m \u001b[49m\u001b[43mno_proxy\u001b[49m\u001b[38;5;241;43m=\u001b[39;49m\u001b[43mno_proxy\u001b[49m\u001b[43m)\u001b[49m:\n\u001b[1;32m    831\u001b[0m         \u001b[38;5;28;01mreturn\u001b[39;00m {}\n\u001b[1;32m    832\u001b[0m     \u001b[38;5;28;01melse\u001b[39;00m:\n",
      "File \u001b[0;32m/Library/Frameworks/Python.framework/Versions/3.9/lib/python3.9/site-packages/requests/utils.py:814\u001b[0m, in \u001b[0;36mshould_bypass_proxies\u001b[0;34m(url, no_proxy)\u001b[0m\n\u001b[1;32m    811\u001b[0m \u001b[38;5;28;01mwith\u001b[39;00m set_environ(\u001b[38;5;124m\"\u001b[39m\u001b[38;5;124mno_proxy\u001b[39m\u001b[38;5;124m\"\u001b[39m, no_proxy_arg):\n\u001b[1;32m    812\u001b[0m     \u001b[38;5;66;03m# parsed.hostname can be `None` in cases such as a file URI.\u001b[39;00m\n\u001b[1;32m    813\u001b[0m     \u001b[38;5;28;01mtry\u001b[39;00m:\n\u001b[0;32m--> 814\u001b[0m         bypass \u001b[38;5;241m=\u001b[39m \u001b[43mproxy_bypass\u001b[49m\u001b[43m(\u001b[49m\u001b[43mparsed\u001b[49m\u001b[38;5;241;43m.\u001b[39;49m\u001b[43mhostname\u001b[49m\u001b[43m)\u001b[49m\n\u001b[1;32m    815\u001b[0m     \u001b[38;5;28;01mexcept\u001b[39;00m (\u001b[38;5;167;01mTypeError\u001b[39;00m, socket\u001b[38;5;241m.\u001b[39mgaierror):\n\u001b[1;32m    816\u001b[0m         bypass \u001b[38;5;241m=\u001b[39m \u001b[38;5;28;01mFalse\u001b[39;00m\n",
      "File \u001b[0;32m/Library/Frameworks/Python.framework/Versions/3.9/lib/python3.9/urllib/request.py:2647\u001b[0m, in \u001b[0;36mproxy_bypass\u001b[0;34m(host)\u001b[0m\n\u001b[1;32m   2645\u001b[0m     \u001b[38;5;28;01mreturn\u001b[39;00m proxy_bypass_environment(host, proxies)\n\u001b[1;32m   2646\u001b[0m \u001b[38;5;28;01melse\u001b[39;00m:\n\u001b[0;32m-> 2647\u001b[0m     \u001b[38;5;28;01mreturn\u001b[39;00m \u001b[43mproxy_bypass_macosx_sysconf\u001b[49m\u001b[43m(\u001b[49m\u001b[43mhost\u001b[49m\u001b[43m)\u001b[49m\n",
      "File \u001b[0;32m/Library/Frameworks/Python.framework/Versions/3.9/lib/python3.9/urllib/request.py:2624\u001b[0m, in \u001b[0;36mproxy_bypass_macosx_sysconf\u001b[0;34m(host)\u001b[0m\n\u001b[1;32m   2622\u001b[0m \u001b[38;5;28;01mdef\u001b[39;00m \u001b[38;5;21mproxy_bypass_macosx_sysconf\u001b[39m(host):\n\u001b[1;32m   2623\u001b[0m     proxy_settings \u001b[38;5;241m=\u001b[39m _get_proxy_settings()\n\u001b[0;32m-> 2624\u001b[0m     \u001b[38;5;28;01mreturn\u001b[39;00m \u001b[43m_proxy_bypass_macosx_sysconf\u001b[49m\u001b[43m(\u001b[49m\u001b[43mhost\u001b[49m\u001b[43m,\u001b[49m\u001b[43m \u001b[49m\u001b[43mproxy_settings\u001b[49m\u001b[43m)\u001b[49m\n",
      "File \u001b[0;32m/Library/Frameworks/Python.framework/Versions/3.9/lib/python3.9/urllib/request.py:2592\u001b[0m, in \u001b[0;36m_proxy_bypass_macosx_sysconf\u001b[0;34m(host, proxy_settings)\u001b[0m\n\u001b[1;32m   2590\u001b[0m \u001b[38;5;28;01mif\u001b[39;00m hostIP \u001b[38;5;129;01mis\u001b[39;00m \u001b[38;5;28;01mNone\u001b[39;00m:\n\u001b[1;32m   2591\u001b[0m     \u001b[38;5;28;01mtry\u001b[39;00m:\n\u001b[0;32m-> 2592\u001b[0m         hostIP \u001b[38;5;241m=\u001b[39m \u001b[43msocket\u001b[49m\u001b[38;5;241;43m.\u001b[39;49m\u001b[43mgethostbyname\u001b[49m\u001b[43m(\u001b[49m\u001b[43mhostonly\u001b[49m\u001b[43m)\u001b[49m\n\u001b[1;32m   2593\u001b[0m         hostIP \u001b[38;5;241m=\u001b[39m ip2num(hostIP)\n\u001b[1;32m   2594\u001b[0m     \u001b[38;5;28;01mexcept\u001b[39;00m \u001b[38;5;167;01mOSError\u001b[39;00m:\n",
      "\u001b[0;31mKeyboardInterrupt\u001b[0m: "
     ]
    }
   ],
   "source": [
    "#모듈 불러오기\n",
    "import requests\n",
    "import warnings\n",
    "\n",
    "#SSL 경고창 없애기\n",
    "warnings.filterwarnings(action='ignore')\n",
    "\n",
    "kw = \"날씨\"\n",
    "p = {\"query\" : kw} # request 시 전달하고자 파라미터 정보를 딕셔너리 자료형으로 작성해 전달 가능\n",
    "url = \"https://search.naver.com/search.naver\"\n",
    "res = requests.get(url, params = p, verify=False) # .post() 메소드에서도 동일하게 사용 가능. 단, post에서는 param 대신 data 사용\n",
    "\n",
    "#실제 request된 url의 내용을 보려면 res.request.url로 확인 가능\n",
    "print(\"url 주소: \", res.request.url)\n",
    "\n",
    "#res.request.url 결과를 보면, param 변수에 입력된 정보가 parameter로 붙어 url 생성, request된 것을 알 수 있음\n",
    "#위 print(res.request.url)  \n",
    "#결과 = https://search.naver.com/search.naver?query=%ED%8F%AC%EC%8A%A4%EC%BD%94\n",
    "res.text[:2000]"
   ]
  },
  {
   "cell_type": "code",
   "execution_count": null,
   "metadata": {},
   "outputs": [],
   "source": [
    "#확인용\n",
    "res.status_code\n",
    "res.request.url\n",
    "res.request.headers\n",
    "res.request.method\n",
    "res.encoding"
   ]
  },
  {
   "attachments": {},
   "cell_type": "markdown",
   "metadata": {},
   "source": [
    "### 3. headers 파라미터"
   ]
  },
  {
   "attachments": {},
   "cell_type": "markdown",
   "metadata": {},
   "source": [
    " - headers 파라미터: User-Agent 정보 변경하기\n",
    " - 사용중인 기기/브라우저의 User-Agent 보기(추천 : 방법1)\n",
    "    - 방법1) 특정 페이지 접속 후 크롬 개발자 모드의 네트워크탭에서 Request Header를 보면 확인가능\n",
    "    - 방법2) https://www.whatismybrowser.com/detect/what-is-my-user-agent 접속 *스마트폰 등 개발자 모드를 사용하기 어려운 환경에서 유용"
   ]
  },
  {
   "attachments": {},
   "cell_type": "markdown",
   "metadata": {},
   "source": [
    "- header 없이"
   ]
  },
  {
   "cell_type": "code",
   "execution_count": null,
   "metadata": {},
   "outputs": [],
   "source": [
    "#네이버 - 증권 - POSCO홀딩스 검색 - 시세 - 일별시세의 페이지에서 새탭 - 주소에서 페이지 삭제\n",
    "\n",
    "# header정보 없이 request\n",
    "import requests\n",
    "\n",
    "url = \"https://finance.naver.com/item/sise_day.nhn?code=005490\"\n",
    "res = requests.get(url, verify=False)\n",
    "print(res.text)"
   ]
  },
  {
   "attachments": {},
   "cell_type": "markdown",
   "metadata": {},
   "source": [
    "- header 추가"
   ]
  },
  {
   "cell_type": "code",
   "execution_count": null,
   "metadata": {},
   "outputs": [],
   "source": [
    "#1. 모듈 불러오기\n",
    "import requests\n",
    "import warnings\n",
    "\n",
    "#2. SSL 경고창 없애기\n",
    "warnings.filterwarnings(action='ignore')\n",
    "\n",
    "#3. headers 파라미터: User-Agent 정보 변경하기\n",
    "# 사용중인 기기/브라우저의 User-Agent 보기(추천 : 방법1)\n",
    "# 방법1) 특정 페이지 접속 후 크롬 개발자 모드의 네트워크탭에서 Request Header를 보면 확인가능\n",
    "# 방법2) https://www.whatismybrowser.com/detect/what-is-my-user-agent 접속 \n",
    "#       *스마트폰 등 개발자 모드를 사용하기 어려운 환경에서 유용\n",
    "h = {\"User-Agent\" : \"Mozilla/5.0 (Windows NT 10.0; Win64; x64) AppleWebKit/537.36 (KHTML, like Gecko) Chrome/98.0.4758.102 Safari/537.36\"}\n",
    "\n",
    "#4. 목표url을 문자열로 입력한 후 url 변수명으로 저장\n",
    "url = \"https://finance.naver.com/item/sise_day.nhn?code=005490\"\n",
    "\n",
    "#5. requests모듈의 get() 메소드를 사용하여 접속을 시도하고, 그 결과(객체)를 res변수에 저장\n",
    "res = requests.get(url, headers=h, verify=False)\n",
    "\n",
    "#6. res.text 속성을 사용하여 받아온 html 데이터를 아웃풋 창에 print\n",
    "print(res.text)"
   ]
  },
  {
   "cell_type": "markdown",
   "metadata": {},
   "source": [
    "### 4. json() 메소드"
   ]
  },
  {
   "cell_type": "code",
   "execution_count": null,
   "metadata": {},
   "outputs": [],
   "source": [
    "json_str = '{\"명단\":[{\"이름\":\"홍길동\",\"부서\":\"인사팀\",\"직급\":\"과장\",\"역할\":\"동호회 회장\"}, {\"이름\":\"이순신\",\"부서\":\"구매팀\",\"직급\":\"대리\",\"역할\":\"동호회 총무\"}],\"메타데이터\":{\"데이터 설명\":\"사내 파이썬 동호회 회원명단\",\"등록일\":\"2022-01-18\",\"수정일\":\"2022-01-20\",\"등록자\":\"김두환\"}}'\n",
    "json_str"
   ]
  },
  {
   "cell_type": "code",
   "execution_count": null,
   "metadata": {},
   "outputs": [],
   "source": [
    "import json\n",
    "\n",
    "#아래의 경우 예시를 위해서 json.loads를 사용하며, 실제로는 res.json()을 사용하는 것이 좋음(ex. json_data = res.json())\n",
    "#json_str 변수에 저장된 json 문자열을 파이썬 딕셔너리 자료형으로 변환\n",
    "json_data = json.loads(json_str)\n",
    "json_data"
   ]
  },
  {
   "cell_type": "code",
   "execution_count": null,
   "metadata": {},
   "outputs": [],
   "source": [
    "json_data['명단']"
   ]
  },
  {
   "attachments": {},
   "cell_type": "markdown",
   "metadata": {},
   "source": []
  },
  {
   "cell_type": "code",
   "execution_count": null,
   "metadata": {},
   "outputs": [],
   "source": []
  },
  {
   "cell_type": "code",
   "execution_count": null,
   "metadata": {},
   "outputs": [],
   "source": []
  }
 ],
 "metadata": {
  "kernelspec": {
   "display_name": "Python 3",
   "language": "python",
   "name": "python3"
  },
  "language_info": {
   "codemirror_mode": {
    "name": "ipython",
    "version": 3
   },
   "file_extension": ".py",
   "mimetype": "text/x-python",
   "name": "python",
   "nbconvert_exporter": "python",
   "pygments_lexer": "ipython3",
   "version": "3.9.10"
  },
  "orig_nbformat": 4
 },
 "nbformat": 4,
 "nbformat_minor": 2
}
