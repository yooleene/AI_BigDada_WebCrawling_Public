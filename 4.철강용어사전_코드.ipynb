{
 "cells": [
  {
   "cell_type": "markdown",
   "metadata": {},
   "source": [
    "## 실습1) HTML(res.text)데이터 가져오기"
   ]
  },
  {
   "cell_type": "markdown",
   "metadata": {},
   "source": [
    "### 네이버 철강용어사전 용어 가져오기 - 네이버에서 '철강용어사전' 검색"
   ]
  },
  {
   "attachments": {},
   "cell_type": "markdown",
   "metadata": {},
   "source": [
    " - requests 모듈을 이용해 네이버 철강용어사전 접속하기\n",
    " - 표제어들의 제목 출력하기\n",
    " - 링크 : https://terms.naver.com/list.naver?cid=67995&categoryId=67995"
   ]
  },
  {
   "attachments": {},
   "cell_type": "markdown",
   "metadata": {},
   "source": [
    "#### 철강용어사전 1page 단어 타이틀 정보 가져오기"
   ]
  },
  {
   "cell_type": "code",
   "execution_count": null,
   "metadata": {},
   "outputs": [],
   "source": [
    "import requests\n",
    "from bs4 import BeautifulSoup\n",
    "# import pandas as pd\n",
    "import warnings\n",
    "\n",
    "#경고창 없애기\n",
    "warnings.filterwarnings(action='ignore')\n",
    "\n",
    "url = \"https://terms.naver.com/list.naver\"\n",
    "p = {\"cid\": \"67995\", \"categoryId\": \"67995\"}\n",
    "h = {\"User-Agent\" : \"Mozilla/5.0 (Windows NT 10.0; Win64; x64) AppleWebKit/537.36 (KHTML, like Gecko) Chrome/98.0.4758.102 Safari/537.36\"}\n",
    "# 철강용어사전 사이트 접속하기\n",
    "res = requests.get(url, params=p, headers=h, verify=False)\n",
    "\n",
    "# 파싱하기\n",
    "soup = BeautifulSoup(res.text, \"html.parser\")\n",
    "soup"
   ]
  },
  {
   "cell_type": "markdown",
   "metadata": {},
   "source": [
    "- 단어 정보 찾기"
   ]
  },
  {
   "cell_type": "code",
   "execution_count": null,
   "metadata": {},
   "outputs": [],
   "source": [
    "words = soup.select(\".title > a:nth-child(1)\")\n",
    "words"
   ]
  },
  {
   "cell_type": "markdown",
   "metadata": {},
   "source": [
    "- 1,2번째 목록 제외"
   ]
  },
  {
   "cell_type": "code",
   "execution_count": null,
   "metadata": {},
   "outputs": [],
   "source": [
    "words[2:]"
   ]
  },
  {
   "cell_type": "markdown",
   "metadata": {},
   "source": [
    "- 텍스트만 추출"
   ]
  },
  {
   "cell_type": "code",
   "execution_count": null,
   "metadata": {},
   "outputs": [],
   "source": [
    "for word in words[2:]:\n",
    "    print(word.text)"
   ]
  },
  {
   "attachments": {},
   "cell_type": "markdown",
   "metadata": {},
   "source": [
    "### 철강용어사전 1page~10page 단어 타이틀 정보 가져오기"
   ]
  },
  {
   "cell_type": "markdown",
   "metadata": {},
   "source": [
    "- 페이지 번호를 클릭하면 페이지 파라미터 확인 가능"
   ]
  },
  {
   "cell_type": "code",
   "execution_count": null,
   "metadata": {},
   "outputs": [],
   "source": [
    "import requests\n",
    "from bs4 import BeautifulSoup\n",
    "# import pandas as pd\n",
    "import warnings\n",
    "\n",
    "#경고창 없애기\n",
    "warnings.filterwarnings(action='ignore')\n",
    "\n",
    "results = []\n",
    "for i in range(1, 11):\n",
    "    print(\"{}페이지 크롤링 중입니다....\".format(i), end='\\r')\n",
    "    url = \"https://terms.naver.com/list.naver?cid=67995&categoryId=67995&page=\"+str(i)\n",
    "    \n",
    "    # 철강용어사전 사이트 접속하기\n",
    "    res = requests.get(url, headers=h, verify=False)\n",
    "\n",
    "    # 파싱하기\n",
    "    soup = BeautifulSoup(res.text, \"html.parser\")\n",
    "    words = soup.select(\"strong.title > a:nth-child(1)\")[2:]\n",
    "\n",
    "    for word in words:\n",
    "        print(word.text)"
   ]
  }
 ],
 "metadata": {
  "interpreter": {
   "hash": "e2782e0ab7cab974e8fb2dfc8cec048a29dc3b50e54743df0c4a34ac41b2be7e"
  },
  "kernelspec": {
   "display_name": "Python 3.8.10 64-bit",
   "language": "python",
   "name": "python3"
  },
  "language_info": {
   "codemirror_mode": {
    "name": "ipython",
    "version": 3
   },
   "file_extension": ".py",
   "mimetype": "text/x-python",
   "name": "python",
   "nbconvert_exporter": "python",
   "pygments_lexer": "ipython3",
   "version": "3.9.10"
  },
  "orig_nbformat": 4
 },
 "nbformat": 4,
 "nbformat_minor": 2
}
